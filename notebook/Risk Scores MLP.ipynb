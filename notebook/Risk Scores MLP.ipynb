{
 "cells": [
  {
   "cell_type": "code",
   "execution_count": 1,
   "metadata": {},
   "outputs": [
    {
     "name": "stderr",
     "output_type": "stream",
     "text": [
      "Using TensorFlow backend.\n"
     ]
    },
    {
     "data": {
      "text/plain": [
       "692"
      ]
     },
     "execution_count": 1,
     "metadata": {},
     "output_type": "execute_result"
    }
   ],
   "source": [
    "from keras.models import Sequential\n",
    "from keras.layers import Dense\n",
    "from keras.wrappers.scikit_learn import KerasRegressor\n",
    "from sklearn.model_selection import cross_val_score\n",
    "from sklearn.model_selection import KFold\n",
    "from sklearn.preprocessing import StandardScaler\n",
    "from sklearn.pipeline import Pipeline\n",
    "import numpy\n",
    "import pandas\n",
    "from sklearn import preprocessing\n",
    "from sklearn.model_selection import train_test_split\n",
    "\n",
    "LoanDF = pandas.read_csv('../Loan_Rejected.csv')\n",
    "# 轉成float, 移除字串中的%\n",
    "LoanDF['Debt-To-Income Ratio'] = LoanDF['Debt-To-Income Ratio'].str.strip('%').astype('float32')\n",
    "# 將數字轉化為百分比型式\n",
    "LoanDF['Debt-To-Income Ratio'] = LoanDF['Debt-To-Income Ratio'] / 100\n",
    "Y = LoanDF['Risk_Score'].astype(str)\n",
    "X = LoanDF.drop(['Employment Length', 'Risk_Score'], axis=1)\n",
    "LoanDF['Risk_Score'].nunique()"
   ]
  },
  {
   "cell_type": "code",
   "execution_count": 2,
   "metadata": {},
   "outputs": [
    {
     "name": "stdout",
     "output_type": "stream",
     "text": [
      "(8805449,)\n",
      "(8805449,)\n",
      "(8805449,)\n",
      "(8805449, 5)\n"
     ]
    }
   ],
   "source": [
    "def encode_features(df):\n",
    "    features = ['Application Date', 'Loan Title', 'State']\n",
    "    for feature in features:\n",
    "        le = preprocessing.LabelEncoder()\n",
    "        le = le.fit(df[feature])\n",
    "        df[feature] = le.transform(df[feature]) # Transform Categories Into Integers\n",
    "        print(df[feature].shape)\n",
    "    return df\n",
    "\n",
    "\n",
    "# feature\n",
    "X = encode_features(X)\n",
    "print(X.shape)"
   ]
  },
  {
   "cell_type": "code",
   "execution_count": 3,
   "metadata": {},
   "outputs": [
    {
     "data": {
      "text/html": [
       "<div>\n",
       "<style scoped>\n",
       "    .dataframe tbody tr th:only-of-type {\n",
       "        vertical-align: middle;\n",
       "    }\n",
       "\n",
       "    .dataframe tbody tr th {\n",
       "        vertical-align: top;\n",
       "    }\n",
       "\n",
       "    .dataframe thead th {\n",
       "        text-align: right;\n",
       "    }\n",
       "</style>\n",
       "<table border=\"1\" class=\"dataframe\">\n",
       "  <thead>\n",
       "    <tr style=\"text-align: right;\">\n",
       "      <th></th>\n",
       "      <th>0</th>\n",
       "      <th>300</th>\n",
       "      <th>301</th>\n",
       "      <th>302</th>\n",
       "      <th>303</th>\n",
       "      <th>304</th>\n",
       "      <th>305</th>\n",
       "      <th>306</th>\n",
       "      <th>307</th>\n",
       "      <th>308</th>\n",
       "      <th>...</th>\n",
       "      <th>981</th>\n",
       "      <th>982</th>\n",
       "      <th>983</th>\n",
       "      <th>984</th>\n",
       "      <th>985</th>\n",
       "      <th>986</th>\n",
       "      <th>987</th>\n",
       "      <th>988</th>\n",
       "      <th>989</th>\n",
       "      <th>990</th>\n",
       "    </tr>\n",
       "  </thead>\n",
       "  <tbody>\n",
       "    <tr>\n",
       "      <th>0</th>\n",
       "      <td>0</td>\n",
       "      <td>0</td>\n",
       "      <td>0</td>\n",
       "      <td>0</td>\n",
       "      <td>0</td>\n",
       "      <td>0</td>\n",
       "      <td>0</td>\n",
       "      <td>0</td>\n",
       "      <td>0</td>\n",
       "      <td>0</td>\n",
       "      <td>...</td>\n",
       "      <td>0</td>\n",
       "      <td>0</td>\n",
       "      <td>0</td>\n",
       "      <td>0</td>\n",
       "      <td>0</td>\n",
       "      <td>0</td>\n",
       "      <td>0</td>\n",
       "      <td>0</td>\n",
       "      <td>0</td>\n",
       "      <td>0</td>\n",
       "    </tr>\n",
       "    <tr>\n",
       "      <th>1</th>\n",
       "      <td>0</td>\n",
       "      <td>0</td>\n",
       "      <td>0</td>\n",
       "      <td>0</td>\n",
       "      <td>0</td>\n",
       "      <td>0</td>\n",
       "      <td>0</td>\n",
       "      <td>0</td>\n",
       "      <td>0</td>\n",
       "      <td>0</td>\n",
       "      <td>...</td>\n",
       "      <td>0</td>\n",
       "      <td>0</td>\n",
       "      <td>0</td>\n",
       "      <td>0</td>\n",
       "      <td>0</td>\n",
       "      <td>0</td>\n",
       "      <td>0</td>\n",
       "      <td>0</td>\n",
       "      <td>0</td>\n",
       "      <td>0</td>\n",
       "    </tr>\n",
       "    <tr>\n",
       "      <th>2</th>\n",
       "      <td>0</td>\n",
       "      <td>0</td>\n",
       "      <td>0</td>\n",
       "      <td>0</td>\n",
       "      <td>0</td>\n",
       "      <td>0</td>\n",
       "      <td>0</td>\n",
       "      <td>0</td>\n",
       "      <td>0</td>\n",
       "      <td>0</td>\n",
       "      <td>...</td>\n",
       "      <td>0</td>\n",
       "      <td>0</td>\n",
       "      <td>0</td>\n",
       "      <td>0</td>\n",
       "      <td>0</td>\n",
       "      <td>0</td>\n",
       "      <td>0</td>\n",
       "      <td>0</td>\n",
       "      <td>0</td>\n",
       "      <td>0</td>\n",
       "    </tr>\n",
       "    <tr>\n",
       "      <th>3</th>\n",
       "      <td>0</td>\n",
       "      <td>0</td>\n",
       "      <td>0</td>\n",
       "      <td>0</td>\n",
       "      <td>0</td>\n",
       "      <td>0</td>\n",
       "      <td>0</td>\n",
       "      <td>0</td>\n",
       "      <td>0</td>\n",
       "      <td>0</td>\n",
       "      <td>...</td>\n",
       "      <td>0</td>\n",
       "      <td>0</td>\n",
       "      <td>0</td>\n",
       "      <td>0</td>\n",
       "      <td>0</td>\n",
       "      <td>0</td>\n",
       "      <td>0</td>\n",
       "      <td>0</td>\n",
       "      <td>0</td>\n",
       "      <td>0</td>\n",
       "    </tr>\n",
       "    <tr>\n",
       "      <th>4</th>\n",
       "      <td>0</td>\n",
       "      <td>0</td>\n",
       "      <td>0</td>\n",
       "      <td>0</td>\n",
       "      <td>0</td>\n",
       "      <td>0</td>\n",
       "      <td>0</td>\n",
       "      <td>0</td>\n",
       "      <td>0</td>\n",
       "      <td>0</td>\n",
       "      <td>...</td>\n",
       "      <td>0</td>\n",
       "      <td>0</td>\n",
       "      <td>0</td>\n",
       "      <td>0</td>\n",
       "      <td>0</td>\n",
       "      <td>0</td>\n",
       "      <td>0</td>\n",
       "      <td>0</td>\n",
       "      <td>0</td>\n",
       "      <td>0</td>\n",
       "    </tr>\n",
       "  </tbody>\n",
       "</table>\n",
       "<p>5 rows × 692 columns</p>\n",
       "</div>"
      ],
      "text/plain": [
       "   0  300  301  302  303  304  305  306  307  308 ...   981  982  983  984  \\\n",
       "0  0    0    0    0    0    0    0    0    0    0 ...     0    0    0    0   \n",
       "1  0    0    0    0    0    0    0    0    0    0 ...     0    0    0    0   \n",
       "2  0    0    0    0    0    0    0    0    0    0 ...     0    0    0    0   \n",
       "3  0    0    0    0    0    0    0    0    0    0 ...     0    0    0    0   \n",
       "4  0    0    0    0    0    0    0    0    0    0 ...     0    0    0    0   \n",
       "\n",
       "   985  986  987  988  989  990  \n",
       "0    0    0    0    0    0    0  \n",
       "1    0    0    0    0    0    0  \n",
       "2    0    0    0    0    0    0  \n",
       "3    0    0    0    0    0    0  \n",
       "4    0    0    0    0    0    0  \n",
       "\n",
       "[5 rows x 692 columns]"
      ]
     },
     "execution_count": 3,
     "metadata": {},
     "output_type": "execute_result"
    }
   ],
   "source": [
    "# label做encoding 產生出692個獨特的類別\n",
    "Y = pandas.get_dummies(data=Y, columns=[\"Risk_Score\"])\n",
    "Y.head(5)"
   ]
  },
  {
   "cell_type": "code",
   "execution_count": 4,
   "metadata": {},
   "outputs": [],
   "source": [
    "# deep learning要將dataframe轉成ndarray\n",
    "X = X.values\n",
    "Y = Y.values"
   ]
  },
  {
   "cell_type": "code",
   "execution_count": 5,
   "metadata": {},
   "outputs": [],
   "source": [
    "# 標準化\n",
    "minMaxScale = preprocessing.MinMaxScaler(feature_range=(0, 1))\n",
    "X = minMaxScale.fit_transform(X)"
   ]
  },
  {
   "cell_type": "code",
   "execution_count": 6,
   "metadata": {},
   "outputs": [],
   "source": [
    "# 切割訓練集與測試集\n",
    "# 將資料分成訓練組及測試組\n",
    "X_train, X_test, y_train, y_test = train_test_split(X, Y, test_size=0.3, random_state=101)"
   ]
  },
  {
   "cell_type": "code",
   "execution_count": 7,
   "metadata": {},
   "outputs": [
    {
     "name": "stdout",
     "output_type": "stream",
     "text": [
      "Train on 5547432 samples, validate on 616382 samples\n",
      "Epoch 1/30\n",
      " - 28s - loss: 0.1542 - acc: 0.9979 - val_loss: 0.0173 - val_acc: 0.9986\n",
      "Epoch 2/30\n",
      " - 26s - loss: 0.0134 - acc: 0.9986 - val_loss: 0.0116 - val_acc: 0.9986\n",
      "Epoch 3/30\n",
      " - 26s - loss: 0.0111 - acc: 0.9986 - val_loss: 0.0108 - val_acc: 0.9986\n",
      "Epoch 4/30\n",
      " - 26s - loss: 0.0106 - acc: 0.9986 - val_loss: 0.0104 - val_acc: 0.9986\n",
      "Epoch 5/30\n",
      " - 26s - loss: 0.0103 - acc: 0.9986 - val_loss: 0.0102 - val_acc: 0.9986\n",
      "Epoch 6/30\n",
      " - 26s - loss: 0.0101 - acc: 0.9986 - val_loss: 0.0100 - val_acc: 0.9986\n",
      "Epoch 7/30\n",
      " - 26s - loss: 0.0099 - acc: 0.9986 - val_loss: 0.0098 - val_acc: 0.9986\n",
      "Epoch 8/30\n",
      " - 27s - loss: 0.0097 - acc: 0.9986 - val_loss: 0.0096 - val_acc: 0.9986\n",
      "Epoch 9/30\n",
      " - 27s - loss: 0.0095 - acc: 0.9986 - val_loss: 0.0095 - val_acc: 0.9986\n",
      "Epoch 10/30\n",
      " - 26s - loss: 0.0095 - acc: 0.9986 - val_loss: 0.0094 - val_acc: 0.9986\n",
      "Epoch 11/30\n",
      " - 26s - loss: 0.0094 - acc: 0.9986 - val_loss: 0.0094 - val_acc: 0.9986\n",
      "Epoch 12/30\n",
      " - 26s - loss: 0.0094 - acc: 0.9986 - val_loss: 0.0094 - val_acc: 0.9986\n",
      "Epoch 13/30\n",
      " - 26s - loss: 0.0094 - acc: 0.9986 - val_loss: 0.0094 - val_acc: 0.9986\n",
      "Epoch 14/30\n",
      " - 26s - loss: 0.0094 - acc: 0.9986 - val_loss: 0.0094 - val_acc: 0.9986\n",
      "Epoch 15/30\n",
      " - 26s - loss: 0.0094 - acc: 0.9986 - val_loss: 0.0094 - val_acc: 0.9986\n",
      "Epoch 16/30\n",
      " - 27s - loss: 0.0094 - acc: 0.9986 - val_loss: 0.0094 - val_acc: 0.9986\n",
      "Epoch 17/30\n",
      " - 26s - loss: 0.0094 - acc: 0.9986 - val_loss: 0.0094 - val_acc: 0.9986\n",
      "Epoch 18/30\n",
      " - 26s - loss: 0.0094 - acc: 0.9986 - val_loss: 0.0094 - val_acc: 0.9986\n",
      "Epoch 19/30\n",
      " - 26s - loss: 0.0094 - acc: 0.9986 - val_loss: 0.0094 - val_acc: 0.9986\n",
      "Epoch 20/30\n",
      " - 26s - loss: 0.0094 - acc: 0.9986 - val_loss: 0.0094 - val_acc: 0.9986\n",
      "Epoch 21/30\n",
      " - 26s - loss: 0.0094 - acc: 0.9986 - val_loss: 0.0094 - val_acc: 0.9986\n",
      "Epoch 22/30\n",
      " - 26s - loss: 0.0094 - acc: 0.9986 - val_loss: 0.0094 - val_acc: 0.9986\n",
      "Epoch 23/30\n",
      " - 26s - loss: 0.0094 - acc: 0.9986 - val_loss: 0.0094 - val_acc: 0.9986\n",
      "Epoch 24/30\n",
      " - 27s - loss: 0.0094 - acc: 0.9986 - val_loss: 0.0094 - val_acc: 0.9986\n",
      "Epoch 25/30\n",
      " - 26s - loss: 0.0094 - acc: 0.9986 - val_loss: 0.0094 - val_acc: 0.9986\n",
      "Epoch 26/30\n",
      " - 26s - loss: 0.0094 - acc: 0.9986 - val_loss: 0.0094 - val_acc: 0.9986\n",
      "Epoch 27/30\n",
      " - 26s - loss: 0.0094 - acc: 0.9986 - val_loss: 0.0094 - val_acc: 0.9986\n",
      "Epoch 28/30\n",
      " - 26s - loss: 0.0094 - acc: 0.9986 - val_loss: 0.0094 - val_acc: 0.9986\n",
      "Epoch 29/30\n",
      " - 27s - loss: 0.0094 - acc: 0.9986 - val_loss: 0.0094 - val_acc: 0.9986\n",
      "Epoch 30/30\n",
      " - 27s - loss: 0.0094 - acc: 0.9986 - val_loss: 0.0094 - val_acc: 0.9986\n"
     ]
    }
   ],
   "source": [
    "# 建立模型\n",
    "model = Sequential()\n",
    "model.add(Dense(5, input_dim=5, kernel_initializer='uniform', activation='relu'))\n",
    "model.add(Dense(692, kernel_initializer='uniform', activation='sigmoid'))\n",
    "model.compile(loss='binary_crossentropy', optimizer='adam', metrics=['accuracy'])\n",
    "train_history = model.fit(x=X_train, y=y_train, validation_split=0.1, epochs=20, batch_size=5000, verbose=2)"
   ]
  },
  {
   "cell_type": "code",
   "execution_count": 13,
   "metadata": {},
   "outputs": [],
   "source": [
    "import matplotlib.pyplot as plt\n",
    "def show_train_history(train_history, train, validation):\n",
    "    plt.plot(train_history.history[train])\n",
    "    plt.plot(train_history.history[validation])\n",
    "    plt.title('Train History')\n",
    "    plt.ylabel(train)\n",
    "    plt.xlabel('Epoch')\n",
    "    plt.legend(['train', 'validation'], loc='center right')\n",
    "    plt.show()"
   ]
  },
  {
   "cell_type": "code",
   "execution_count": 14,
   "metadata": {},
   "outputs": [
    {
     "data": {
      "image/png": "[encoded data removed]",
      "text/plain": [
       "<Figure size 432x288 with 1 Axes>"
      ]
     },
     "metadata": {
      "needs_background": "light"
     },
     "output_type": "display_data"
    }
   ],
   "source": [
    "show_train_history(train_history, 'acc', 'val_acc')"
   ]
  },
  {
   "cell_type": "code",
   "execution_count": 15,
   "metadata": {},
   "outputs": [
    {
     "data": {
      "image/png": "[encoded data removed]",
      "text/plain": [
       "<Figure size 432x288 with 1 Axes>"
      ]
     },
     "metadata": {
      "needs_background": "light"
     },
     "output_type": "display_data"
    }
   ],
   "source": [
    "show_train_history(train_history, 'loss', 'val_loss')"
   ]
  },
  {
   "cell_type": "code",
   "execution_count": 11,
   "metadata": {},
   "outputs": [
    {
     "name": "stdout",
     "output_type": "stream",
     "text": [
      "2641635/2641635 [==============================] - 61s 23us/step\n"
     ]
    },
    {
     "data": {
      "text/plain": [
       "0.9985548848408414"
      ]
     },
     "execution_count": 11,
     "metadata": {},
     "output_type": "execute_result"
    }
   ],
   "source": [
    "scores = model.evaluate(x=X_test, y=y_test)\n",
    "scores[1]"
   ]
  },
  {
   "cell_type": "code",
   "execution_count": null,
   "metadata": {},
   "outputs": [],
   "source": []
  }
 ],
 "metadata": {
  "kernelspec": {
   "display_name": "Python 3",
   "language": "python",
   "name": "python3"
  },
  "language_info": {
   "codemirror_mode": {
    "name": "ipython",
    "version": 3
   },
   "file_extension": ".py",
   "mimetype": "text/x-python",
   "name": "python",
   "nbconvert_exporter": "python",
   "pygments_lexer": "ipython3",
   "version": "3.6.5"
  }
 },
 "nbformat": 4,
 "nbformat_minor": 2
}
