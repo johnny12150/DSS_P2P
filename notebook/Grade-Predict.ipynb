{
 "cells": [
  {
   "cell_type": "markdown",
   "metadata": {},
   "source": [
    "### Load Model"
   ]
  },
  {
   "cell_type": "code",
   "execution_count": 1,
   "metadata": {},
   "outputs": [],
   "source": [
    "import numpy as np\n",
    "import pandas as pd\n",
    "from sklearn.externals import joblib"
   ]
  },
  {
   "cell_type": "code",
   "execution_count": null,
   "metadata": {},
   "outputs": [],
   "source": [
    "def load_model():\n",
    "    model = model_from_json(open('model_architecture.json').read())\n",
    "    model.load_weights('model_weights.h5')\n",
    "    model.compile(loss='binary_crossentropy', optimizer='adam', metrics=['accuracy'])\n",
    "    return model\n",
    "\n",
    "loaded_model = load_model()"
   ]
  },
  {
   "cell_type": "markdown",
   "metadata": {},
   "source": [
    "### 整理要預測的資料"
   ]
  },
  {
   "cell_type": "markdown",
   "metadata": {},
   "source": [
    "### Input:\n",
    "* loan_amt： 預借金額，以1000為倍數，最少1千美金，最多4萬美金\n",
    "* term： 還款時間，限36或是60個月\n",
    "* installment： 每月還多少，loan_amt/ term ，可能不會作為feature\n",
    "* loan_status： 錢借到後有沒有準時還款(從擷取資料的時間點來看，因此不會影響grade)\n",
    "* home_ownership： 方屋所有權，分為租的、自有、有房貸\n",
    "* purpose： 借款目的\n",
    "* verification_status：\n",
    "* emp_length： 工作資歷\n",
    "* annual_inc： 年收入"
   ]
  },
  {
   "cell_type": "markdown",
   "metadata": {},
   "source": [
    "### 1. Load scaler & encoder"
   ]
  },
  {
   "cell_type": "markdown",
   "metadata": {},
   "source": [
    "#### Load Encoder"
   ]
  },
  {
   "cell_type": "code",
   "execution_count": 8,
   "metadata": {},
   "outputs": [],
   "source": [
    "def feature_encode(df):\n",
    "    features = ['term', 'home_ownership', 'loan_status', 'purpose', 'verification_status', 'emp_length']\n",
    "    for feature in features:\n",
    "        print(feature)\n",
    "        le = joblib.load('encoder/le_%s.pkl' % feature)\n",
    "        print(le.classes_)\n",
    "        print(df[feature])\n",
    "        df[feature] = le.transform(df[feature]) # Transform Categories Into Integers\n",
    "        ohe = joblib.load('encoder/ohe_%s.pkl' % feature)\n",
    "        # todo: 這裡要修正不然會變成訓練時的資料數目 80萬筆\n",
    "        featured = ohe.transform(df[[feature]])\n",
    "        print(featured)\n",
    "        feature_array = featured.toarray()\n",
    "        feature_labels = list(le.classes_)\n",
    "        one_hot_features = pd.DataFrame(feature_array, columns=feature_labels)\n",
    "        df = pd.concat([df, one_hot_features], axis=1)\n",
    "    return df"
   ]
  },
  {
   "cell_type": "code",
   "execution_count": 9,
   "metadata": {},
   "outputs": [
    {
     "data": {
      "text/html": [
       "<div>\n",
       "<style scoped>\n",
       "    .dataframe tbody tr th:only-of-type {\n",
       "        vertical-align: middle;\n",
       "    }\n",
       "\n",
       "    .dataframe tbody tr th {\n",
       "        vertical-align: top;\n",
       "    }\n",
       "\n",
       "    .dataframe thead th {\n",
       "        text-align: right;\n",
       "    }\n",
       "</style>\n",
       "<table border=\"1\" class=\"dataframe\">\n",
       "  <thead>\n",
       "    <tr style=\"text-align: right;\">\n",
       "      <th></th>\n",
       "      <th>loan_amt</th>\n",
       "      <th>term</th>\n",
       "      <th>home_ownership</th>\n",
       "      <th>loan_status</th>\n",
       "      <th>purpose</th>\n",
       "      <th>verification_status</th>\n",
       "      <th>emp_length</th>\n",
       "      <th>annual_inc</th>\n",
       "    </tr>\n",
       "  </thead>\n",
       "  <tbody>\n",
       "    <tr>\n",
       "      <th>0</th>\n",
       "      <td>4000</td>\n",
       "      <td>36 months</td>\n",
       "      <td>OWN</td>\n",
       "      <td>Fully Paid</td>\n",
       "      <td>car</td>\n",
       "      <td>Verified</td>\n",
       "      <td>3 years</td>\n",
       "      <td>50000</td>\n",
       "    </tr>\n",
       "  </tbody>\n",
       "</table>\n",
       "</div>"
      ],
      "text/plain": [
       "   loan_amt        term home_ownership loan_status purpose  \\\n",
       "0      4000   36 months            OWN  Fully Paid     car   \n",
       "\n",
       "  verification_status emp_length  annual_inc  \n",
       "0            Verified    3 years       50000  "
      ]
     },
     "execution_count": 9,
     "metadata": {},
     "output_type": "execute_result"
    }
   ],
   "source": [
    "input_list = [[4000, ' 36 months', 'OWN', 'Fully Paid', 'car', 'Verified', '3 years', 50000]]\n",
    "fake_new_input = pd.DataFrame(input_list, columns=['loan_amt', 'term', 'home_ownership', 'loan_status', 'purpose', 'verification_status', 'emp_length', 'annual_inc'])\n",
    "fake_new_input"
   ]
  },
  {
   "cell_type": "code",
   "execution_count": 10,
   "metadata": {},
   "outputs": [
    {
     "name": "stdout",
     "output_type": "stream",
     "text": [
      "term\n",
      "[' 36 months' ' 60 months']\n",
      "0     36 months\n",
      "Name: term, dtype: object\n",
      "  (0, 0)\t1.0\n",
      "home_ownership\n",
      "['ANY' 'MORTGAGE' 'NONE' 'OTHER' 'OWN' 'RENT']\n",
      "0    OWN\n",
      "Name: home_ownership, dtype: object\n",
      "  (0, 4)\t1.0\n",
      "loan_status\n",
      "['Charged Off' 'Current' 'Default'\n",
      " 'Does not meet the credit policy. Status:Charged Off'\n",
      " 'Does not meet the credit policy. Status:Fully Paid' 'Fully Paid'\n",
      " 'In Grace Period' 'Issued' 'Late (16-30 days)' 'Late (31-120 days)']\n",
      "0    Fully Paid\n",
      "Name: loan_status, dtype: object\n",
      "  (0, 5)\t1.0\n",
      "purpose\n",
      "['car' 'credit_card' 'debt_consolidation' 'educational' 'home_improvement'\n",
      " 'house' 'major_purchase' 'medical' 'moving' 'other' 'renewable_energy'\n",
      " 'small_business' 'vacation' 'wedding']\n",
      "0    car\n",
      "Name: purpose, dtype: object\n",
      "  (0, 0)\t1.0\n",
      "verification_status\n",
      "['Not Verified' 'Source Verified' 'Verified']\n",
      "0    Verified\n",
      "Name: verification_status, dtype: object\n",
      "  (0, 2)\t1.0\n",
      "emp_length\n",
      "[' 1 year' '1 year' '10+ years' '2 years' '3 years' '4 years' '5 years'\n",
      " '6 years' '7 years' '8 years' '9 years' 'nan']\n",
      "0    3 years\n",
      "Name: emp_length, dtype: object\n",
      "  (0, 4)\t1.0\n"
     ]
    }
   ],
   "source": [
    "predict_X = feature_encode(fake_new_input)"
   ]
  },
  {
   "cell_type": "code",
   "execution_count": 11,
   "metadata": {},
   "outputs": [
    {
     "data": {
      "text/html": [
       "<div>\n",
       "<style scoped>\n",
       "    .dataframe tbody tr th:only-of-type {\n",
       "        vertical-align: middle;\n",
       "    }\n",
       "\n",
       "    .dataframe tbody tr th {\n",
       "        vertical-align: top;\n",
       "    }\n",
       "\n",
       "    .dataframe thead th {\n",
       "        text-align: right;\n",
       "    }\n",
       "</style>\n",
       "<table border=\"1\" class=\"dataframe\">\n",
       "  <thead>\n",
       "    <tr style=\"text-align: right;\">\n",
       "      <th></th>\n",
       "      <th>loan_amt</th>\n",
       "      <th>term</th>\n",
       "      <th>home_ownership</th>\n",
       "      <th>loan_status</th>\n",
       "      <th>purpose</th>\n",
       "      <th>verification_status</th>\n",
       "      <th>emp_length</th>\n",
       "      <th>annual_inc</th>\n",
       "      <th>36 months</th>\n",
       "      <th>60 months</th>\n",
       "      <th>...</th>\n",
       "      <th>10+ years</th>\n",
       "      <th>2 years</th>\n",
       "      <th>3 years</th>\n",
       "      <th>4 years</th>\n",
       "      <th>5 years</th>\n",
       "      <th>6 years</th>\n",
       "      <th>7 years</th>\n",
       "      <th>8 years</th>\n",
       "      <th>9 years</th>\n",
       "      <th>nan</th>\n",
       "    </tr>\n",
       "  </thead>\n",
       "  <tbody>\n",
       "    <tr>\n",
       "      <th>0</th>\n",
       "      <td>4000</td>\n",
       "      <td>0</td>\n",
       "      <td>4</td>\n",
       "      <td>5</td>\n",
       "      <td>0</td>\n",
       "      <td>2</td>\n",
       "      <td>4</td>\n",
       "      <td>50000</td>\n",
       "      <td>1.0</td>\n",
       "      <td>0.0</td>\n",
       "      <td>...</td>\n",
       "      <td>0.0</td>\n",
       "      <td>0.0</td>\n",
       "      <td>1.0</td>\n",
       "      <td>0.0</td>\n",
       "      <td>0.0</td>\n",
       "      <td>0.0</td>\n",
       "      <td>0.0</td>\n",
       "      <td>0.0</td>\n",
       "      <td>0.0</td>\n",
       "      <td>0.0</td>\n",
       "    </tr>\n",
       "  </tbody>\n",
       "</table>\n",
       "<p>1 rows × 55 columns</p>\n",
       "</div>"
      ],
      "text/plain": [
       "   loan_amt  term  home_ownership  loan_status  purpose  verification_status  \\\n",
       "0      4000     0               4            5        0                    2   \n",
       "\n",
       "   emp_length  annual_inc   36 months   60 months ...   10+ years  2 years  \\\n",
       "0           4       50000         1.0         0.0 ...         0.0      0.0   \n",
       "\n",
       "   3 years  4 years  5 years  6 years  7 years  8 years  9 years  nan  \n",
       "0      1.0      0.0      0.0      0.0      0.0      0.0      0.0  0.0  \n",
       "\n",
       "[1 rows x 55 columns]"
      ]
     },
     "execution_count": 11,
     "metadata": {},
     "output_type": "execute_result"
    }
   ],
   "source": [
    "predict_X"
   ]
  },
  {
   "cell_type": "code",
   "execution_count": null,
   "metadata": {},
   "outputs": [],
   "source": [
    "# reverse one hot encode to label \n",
    "# https://stackoverflow.com/questions/22548731/how-to-reverse-sklearn-onehotencoder-transform-to-recover-original-data"
   ]
  },
  {
   "cell_type": "markdown",
   "metadata": {},
   "source": [
    "#### Load scaler"
   ]
  },
  {
   "cell_type": "code",
   "execution_count": 12,
   "metadata": {},
   "outputs": [
    {
     "ename": "AttributeError",
     "evalue": "'numpy.ndarray' object has no attribute 'transform'",
     "output_type": "error",
     "traceback": [
      "\u001b[1;31m---------------------------------------------------------------------------\u001b[0m",
      "\u001b[1;31mAttributeError\u001b[0m                            Traceback (most recent call last)",
      "\u001b[1;32m<ipython-input-12-a44e78c7238f>\u001b[0m in \u001b[0;36m<module>\u001b[1;34m\u001b[0m\n\u001b[0;32m      1\u001b[0m \u001b[0mpredict_X\u001b[0m \u001b[1;33m=\u001b[0m \u001b[0mpredict_X\u001b[0m\u001b[1;33m.\u001b[0m\u001b[0mvalues\u001b[0m\u001b[1;33m\u001b[0m\u001b[0m\n\u001b[0;32m      2\u001b[0m \u001b[0mminMax\u001b[0m \u001b[1;33m=\u001b[0m \u001b[0mjoblib\u001b[0m\u001b[1;33m.\u001b[0m\u001b[0mload\u001b[0m\u001b[1;33m(\u001b[0m\u001b[1;34m\"scaler/XminMAX.pkl\"\u001b[0m\u001b[1;33m)\u001b[0m\u001b[1;33m\u001b[0m\u001b[0m\n\u001b[1;32m----> 3\u001b[1;33m \u001b[0mpredict_X\u001b[0m \u001b[1;33m=\u001b[0m \u001b[0mminMax\u001b[0m\u001b[1;33m.\u001b[0m\u001b[0mtransform\u001b[0m\u001b[1;33m(\u001b[0m\u001b[0mpredict_X\u001b[0m\u001b[1;33m)\u001b[0m\u001b[1;33m\u001b[0m\u001b[0m\n\u001b[0m\u001b[0;32m      4\u001b[0m \u001b[0mpredict_X\u001b[0m\u001b[1;33m\u001b[0m\u001b[0m\n",
      "\u001b[1;31mAttributeError\u001b[0m: 'numpy.ndarray' object has no attribute 'transform'"
     ]
    }
   ],
   "source": [
    "predict_X = predict_X.values\n",
    "minMax = joblib.load(\"scaler/XminMAX.pkl\")\n",
    "predict_X = minMax.transform(predict_X)\n",
    "predict_X"
   ]
  },
  {
   "cell_type": "markdown",
   "metadata": {},
   "source": [
    "### 2. Predict"
   ]
  },
  {
   "cell_type": "code",
   "execution_count": null,
   "metadata": {},
   "outputs": [],
   "source": []
  }
 ],
 "metadata": {
  "kernelspec": {
   "display_name": "Python 3",
   "language": "python",
   "name": "python3"
  },
  "language_info": {
   "codemirror_mode": {
    "name": "ipython",
    "version": 3
   },
   "file_extension": ".py",
   "mimetype": "text/x-python",
   "name": "python",
   "nbconvert_exporter": "python",
   "pygments_lexer": "ipython3",
   "version": "3.6.5"
  }
 },
 "nbformat": 4,
 "nbformat_minor": 2
}
